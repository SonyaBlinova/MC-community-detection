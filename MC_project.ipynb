{
  "nbformat": 4,
  "nbformat_minor": 0,
  "metadata": {
    "colab": {
      "name": "MC-project",
      "provenance": [],
      "collapsed_sections": []
    },
    "kernelspec": {
      "name": "python3",
      "display_name": "Python 3"
    },
    "language_info": {
      "name": "python"
    }
  },
  "cells": [
    {
      "cell_type": "code",
      "metadata": {
        "id": "_IoDKBQ-1sAo"
      },
      "source": [
        "import numpy as np\n",
        "from IPython.display import clear_output\n",
        "import matplotlib.pyplot as plt\n",
        "\n",
        "def generate_graph(N, x_star, a, b):\n",
        "  graph = np.zeros((N, N))\n",
        "  for i in range(N):\n",
        "    for j in range(i+1, N):\n",
        "      if x_star[i]*x_star[j] == 1:\n",
        "        if np.random.uniform(0,N) < a:\n",
        "          graph[i][j] = 1\n",
        "          graph[j][i] = 1\n",
        "      elif x_star[i]*x_star[j] == -1:\n",
        "        if np.random.uniform(0,N) < b:\n",
        "          graph[i][j] = 1\n",
        "          graph[j][i] = 1\n",
        "  return graph\n",
        "\n",
        "def probability(x, graph, a, b, N):\n",
        "  p = 1\n",
        "  ln1 = np.log(a/b)\n",
        "  ln2 = np.log((1 - a/N)/(1 - b/N))\n",
        "  for i in range(N):\n",
        "    for j in range(i+1, N):\n",
        "      h = 1/2*(graph[i, j]*ln1 + (1 - graph[i, j])*ln2)\n",
        "      p *= np.exp(h * x[i] * x[j])\n",
        "  return p\n",
        "\n",
        "def acceptance_prob(x_1, x_2, graph, a, b, N, psi_1, psi_2):\n",
        "  p1 = probability(x_1, graph, a, b, N)\n",
        "  p2 = probability(x_2, graph, a, b, N)\n",
        "  return np.min([1, (p2*psi_2)/(p1*psi_1)])\n",
        "\n",
        "def hamiltonian(x, graph, a, b, N):\n",
        "  p = 0\n",
        "  ln1 = np.log(a/b)\n",
        "  ln2 = np.log((1 - a/N)/(1 - b/N))\n",
        "  for i in range(N):\n",
        "    for j in range(i+1, N):\n",
        "      h = 1/2*(graph[i, j]*ln1 + (1 - graph[i, j])*ln2)\n",
        "      p -= h * x[i] * x[j]\n",
        "  return p\n",
        "\n",
        "def overlap(x_star, x_final, N):\n",
        "  over = 0\n",
        "  for i in range(N):\n",
        "    over += x_star[i]*x_final[i]\n",
        "  return (1/N)*np.abs(over)\n",
        "\n",
        "def plot(ham, over):\n",
        "  _, axes = plt.subplots(nrows=1, ncols=2, figsize=(32,8))\n",
        "  axes[0].set_ylabel('Hamiltonian', fontsize=20)\n",
        "  axes[0].set_xlabel('iter', fontsize=20)\n",
        "  axes[1].set_ylabel('Overlap', fontsize=20)\n",
        "  axes[1].set_xlabel('iter', fontsize=20)\n",
        "  axes[0].plot(ham)\n",
        "  axes[1].plot(over)\n",
        "  axes[0].grid()\n",
        "  axes[1].grid()\n",
        "  plt.show()"
      ],
      "execution_count": 83,
      "outputs": []
    },
    {
      "cell_type": "code",
      "metadata": {
        "colab": {
          "base_uri": "https://localhost:8080/",
          "height": 829
        },
        "id": "binrT_ejUDjM",
        "outputId": "7c80e266-0477-4b5f-f2b3-077984658b8f"
      },
      "source": [
        "N = 1000\n",
        "x_star = np.random.choice([-1, 1], N)\n",
        "psi_1 = 1/N\n",
        "psi_2 = 1/N\n",
        "a = 300\n",
        "b = 50\n",
        "num_iter = 10000\n",
        "\n",
        "x_star = np.random.choice([-1, 1], N)\n",
        "graph = generate_graph(N, x_star, a, b)\n",
        "\n",
        "hams = []\n",
        "overlaps = []\n",
        "curr_state = np.random.choice([-1, 1], N)\n",
        "for i in range(num_iter):\n",
        "  rand_ind = np.random.choice(N, 1)[0]\n",
        "  next_state = curr_state.copy()\n",
        "  next_state[rand_ind] *= -1\n",
        "  a = acceptance_prob(curr_state, next_state, graph, a, b, N, psi_1, psi_2)\n",
        "  rand_num = np.random.uniform(0,1)\n",
        "  if rand_num <= a:\n",
        "    curr_state = next_state.copy()\n",
        "  if i % 10 == 0:\n",
        "    hams.append(hamiltonian(curr_state, graph, a, b, N))\n",
        "    overlaps.append(overlap(x_star, curr_state, N))\n",
        "    clear_output(wait=True)\n",
        "    plot(hams, overlaps)\n",
        "\n",
        "print('x_star', x_star)\n",
        "print('final_state', curr_state)\n",
        "print('overlap', overlap(x_star, curr_state, N))"
      ],
      "execution_count": 86,
      "outputs": [
        {
          "output_type": "display_data",
          "data": {
            "image/png": "[encoded data removed]",
            "text/plain": [
              "<Figure size 2304x576 with 2 Axes>"
            ]
          },
          "metadata": {
            "needs_background": "light"
          }
        },
        {
          "output_type": "error",
          "ename": "KeyboardInterrupt",
          "evalue": "ignored",
          "traceback": [
            "\u001b[0;31m---------------------------------------------------------------------------\u001b[0m",
            "\u001b[0;31mKeyboardInterrupt\u001b[0m                         Traceback (most recent call last)",
            "\u001b[0;32m<ipython-input-86-c7ba67528bff>\u001b[0m in \u001b[0;36m<module>\u001b[0;34m()\u001b[0m\n\u001b[1;32m     17\u001b[0m   \u001b[0mnext_state\u001b[0m \u001b[0;34m=\u001b[0m \u001b[0mcurr_state\u001b[0m\u001b[0;34m.\u001b[0m\u001b[0mcopy\u001b[0m\u001b[0;34m(\u001b[0m\u001b[0;34m)\u001b[0m\u001b[0;34m\u001b[0m\u001b[0;34m\u001b[0m\u001b[0m\n\u001b[1;32m     18\u001b[0m   \u001b[0mnext_state\u001b[0m\u001b[0;34m[\u001b[0m\u001b[0mrand_ind\u001b[0m\u001b[0;34m]\u001b[0m \u001b[0;34m*=\u001b[0m \u001b[0;34m-\u001b[0m\u001b[0;36m1\u001b[0m\u001b[0;34m\u001b[0m\u001b[0;34m\u001b[0m\u001b[0m\n\u001b[0;32m---> 19\u001b[0;31m   \u001b[0ma\u001b[0m \u001b[0;34m=\u001b[0m \u001b[0macceptance_prob\u001b[0m\u001b[0;34m(\u001b[0m\u001b[0mcurr_state\u001b[0m\u001b[0;34m,\u001b[0m \u001b[0mnext_state\u001b[0m\u001b[0;34m,\u001b[0m \u001b[0mgraph\u001b[0m\u001b[0;34m,\u001b[0m \u001b[0ma\u001b[0m\u001b[0;34m,\u001b[0m \u001b[0mb\u001b[0m\u001b[0;34m,\u001b[0m \u001b[0mN\u001b[0m\u001b[0;34m,\u001b[0m \u001b[0mpsi_1\u001b[0m\u001b[0;34m,\u001b[0m \u001b[0mpsi_2\u001b[0m\u001b[0;34m)\u001b[0m\u001b[0;34m\u001b[0m\u001b[0;34m\u001b[0m\u001b[0m\n\u001b[0m\u001b[1;32m     20\u001b[0m   \u001b[0mrand_num\u001b[0m \u001b[0;34m=\u001b[0m \u001b[0mnp\u001b[0m\u001b[0;34m.\u001b[0m\u001b[0mrandom\u001b[0m\u001b[0;34m.\u001b[0m\u001b[0muniform\u001b[0m\u001b[0;34m(\u001b[0m\u001b[0;36m0\u001b[0m\u001b[0;34m,\u001b[0m\u001b[0;36m1\u001b[0m\u001b[0;34m)\u001b[0m\u001b[0;34m\u001b[0m\u001b[0;34m\u001b[0m\u001b[0m\n\u001b[1;32m     21\u001b[0m   \u001b[0;32mif\u001b[0m \u001b[0mrand_num\u001b[0m \u001b[0;34m<=\u001b[0m \u001b[0ma\u001b[0m\u001b[0;34m:\u001b[0m\u001b[0;34m\u001b[0m\u001b[0;34m\u001b[0m\u001b[0m\n",
            "\u001b[0;32m<ipython-input-83-d35851ff77a0>\u001b[0m in \u001b[0;36macceptance_prob\u001b[0;34m(x_1, x_2, graph, a, b, N, psi_1, psi_2)\u001b[0m\n\u001b[1;32m     29\u001b[0m \u001b[0;32mdef\u001b[0m \u001b[0macceptance_prob\u001b[0m\u001b[0;34m(\u001b[0m\u001b[0mx_1\u001b[0m\u001b[0;34m,\u001b[0m \u001b[0mx_2\u001b[0m\u001b[0;34m,\u001b[0m \u001b[0mgraph\u001b[0m\u001b[0;34m,\u001b[0m \u001b[0ma\u001b[0m\u001b[0;34m,\u001b[0m \u001b[0mb\u001b[0m\u001b[0;34m,\u001b[0m \u001b[0mN\u001b[0m\u001b[0;34m,\u001b[0m \u001b[0mpsi_1\u001b[0m\u001b[0;34m,\u001b[0m \u001b[0mpsi_2\u001b[0m\u001b[0;34m)\u001b[0m\u001b[0;34m:\u001b[0m\u001b[0;34m\u001b[0m\u001b[0;34m\u001b[0m\u001b[0m\n\u001b[1;32m     30\u001b[0m   \u001b[0mp1\u001b[0m \u001b[0;34m=\u001b[0m \u001b[0mprobability\u001b[0m\u001b[0;34m(\u001b[0m\u001b[0mx_1\u001b[0m\u001b[0;34m,\u001b[0m \u001b[0mgraph\u001b[0m\u001b[0;34m,\u001b[0m \u001b[0ma\u001b[0m\u001b[0;34m,\u001b[0m \u001b[0mb\u001b[0m\u001b[0;34m,\u001b[0m \u001b[0mN\u001b[0m\u001b[0;34m)\u001b[0m\u001b[0;34m\u001b[0m\u001b[0;34m\u001b[0m\u001b[0m\n\u001b[0;32m---> 31\u001b[0;31m   \u001b[0mp2\u001b[0m \u001b[0;34m=\u001b[0m \u001b[0mprobability\u001b[0m\u001b[0;34m(\u001b[0m\u001b[0mx_2\u001b[0m\u001b[0;34m,\u001b[0m \u001b[0mgraph\u001b[0m\u001b[0;34m,\u001b[0m \u001b[0ma\u001b[0m\u001b[0;34m,\u001b[0m \u001b[0mb\u001b[0m\u001b[0;34m,\u001b[0m \u001b[0mN\u001b[0m\u001b[0;34m)\u001b[0m\u001b[0;34m\u001b[0m\u001b[0;34m\u001b[0m\u001b[0m\n\u001b[0m\u001b[1;32m     32\u001b[0m   \u001b[0;32mreturn\u001b[0m \u001b[0mnp\u001b[0m\u001b[0;34m.\u001b[0m\u001b[0mmin\u001b[0m\u001b[0;34m(\u001b[0m\u001b[0;34m[\u001b[0m\u001b[0;36m1\u001b[0m\u001b[0;34m,\u001b[0m \u001b[0;34m(\u001b[0m\u001b[0mp2\u001b[0m\u001b[0;34m*\u001b[0m\u001b[0mpsi_2\u001b[0m\u001b[0;34m)\u001b[0m\u001b[0;34m/\u001b[0m\u001b[0;34m(\u001b[0m\u001b[0mp1\u001b[0m\u001b[0;34m*\u001b[0m\u001b[0mpsi_1\u001b[0m\u001b[0;34m)\u001b[0m\u001b[0;34m]\u001b[0m\u001b[0;34m)\u001b[0m\u001b[0;34m\u001b[0m\u001b[0;34m\u001b[0m\u001b[0m\n\u001b[1;32m     33\u001b[0m \u001b[0;34m\u001b[0m\u001b[0m\n",
            "\u001b[0;32m<ipython-input-83-d35851ff77a0>\u001b[0m in \u001b[0;36mprobability\u001b[0;34m(x, graph, a, b, N)\u001b[0m\n\u001b[1;32m     24\u001b[0m     \u001b[0;32mfor\u001b[0m \u001b[0mj\u001b[0m \u001b[0;32min\u001b[0m \u001b[0mrange\u001b[0m\u001b[0;34m(\u001b[0m\u001b[0mi\u001b[0m\u001b[0;34m+\u001b[0m\u001b[0;36m1\u001b[0m\u001b[0;34m,\u001b[0m \u001b[0mN\u001b[0m\u001b[0;34m)\u001b[0m\u001b[0;34m:\u001b[0m\u001b[0;34m\u001b[0m\u001b[0;34m\u001b[0m\u001b[0m\n\u001b[1;32m     25\u001b[0m       \u001b[0mh\u001b[0m \u001b[0;34m=\u001b[0m \u001b[0;36m1\u001b[0m\u001b[0;34m/\u001b[0m\u001b[0;36m2\u001b[0m\u001b[0;34m*\u001b[0m\u001b[0;34m(\u001b[0m\u001b[0mgraph\u001b[0m\u001b[0;34m[\u001b[0m\u001b[0mi\u001b[0m\u001b[0;34m,\u001b[0m \u001b[0mj\u001b[0m\u001b[0;34m]\u001b[0m\u001b[0;34m*\u001b[0m\u001b[0mln1\u001b[0m \u001b[0;34m+\u001b[0m \u001b[0;34m(\u001b[0m\u001b[0;36m1\u001b[0m \u001b[0;34m-\u001b[0m \u001b[0mgraph\u001b[0m\u001b[0;34m[\u001b[0m\u001b[0mi\u001b[0m\u001b[0;34m,\u001b[0m \u001b[0mj\u001b[0m\u001b[0;34m]\u001b[0m\u001b[0;34m)\u001b[0m\u001b[0;34m*\u001b[0m\u001b[0mln2\u001b[0m\u001b[0;34m)\u001b[0m\u001b[0;34m\u001b[0m\u001b[0;34m\u001b[0m\u001b[0m\n\u001b[0;32m---> 26\u001b[0;31m       \u001b[0mp\u001b[0m \u001b[0;34m*=\u001b[0m \u001b[0mnp\u001b[0m\u001b[0;34m.\u001b[0m\u001b[0mexp\u001b[0m\u001b[0;34m(\u001b[0m\u001b[0mh\u001b[0m \u001b[0;34m*\u001b[0m \u001b[0mx\u001b[0m\u001b[0;34m[\u001b[0m\u001b[0mi\u001b[0m\u001b[0;34m]\u001b[0m \u001b[0;34m*\u001b[0m \u001b[0mx\u001b[0m\u001b[0;34m[\u001b[0m\u001b[0mj\u001b[0m\u001b[0;34m]\u001b[0m\u001b[0;34m)\u001b[0m\u001b[0;34m\u001b[0m\u001b[0;34m\u001b[0m\u001b[0m\n\u001b[0m\u001b[1;32m     27\u001b[0m   \u001b[0;32mreturn\u001b[0m \u001b[0mp\u001b[0m\u001b[0;34m\u001b[0m\u001b[0;34m\u001b[0m\u001b[0m\n\u001b[1;32m     28\u001b[0m \u001b[0;34m\u001b[0m\u001b[0m\n",
            "\u001b[0;31mKeyboardInterrupt\u001b[0m: "
          ]
        }
      ]
    },
    {
      "cell_type": "code",
      "metadata": {
        "id": "XjV0nL9-1s-E"
      },
      "source": [
        ""
      ],
      "execution_count": null,
      "outputs": []
    },
    {
      "cell_type": "code",
      "metadata": {
        "id": "cxZLxgNj1s__"
      },
      "source": [
        ""
      ],
      "execution_count": null,
      "outputs": []
    }
  ]
}